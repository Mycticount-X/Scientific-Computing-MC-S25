{
 "cells": [
  {
   "cell_type": "markdown",
   "id": "0ad275f8",
   "metadata": {},
   "source": [
    "# **Integral Riemann**\n",
    "\n",
    "> Github: Mycticount-X"
   ]
  },
  {
   "cell_type": "code",
   "execution_count": null,
   "id": "90d873fc",
   "metadata": {},
   "outputs": [],
   "source": [
    "import numpy as np\n",
    "\n",
    "# Test Case\n",
    "def f(x: int | float):\n",
    "    return x**2 + 2*x + 1\n",
    "\n",
    "a = 0\n",
    "b = 4\n",
    "n = 40 "
   ]
  },
  {
   "cell_type": "code",
   "execution_count": 5,
   "id": "7cb23257",
   "metadata": {},
   "outputs": [
    {
     "name": "stdout",
     "output_type": "stream",
     "text": [
      "Left Riemann       : 40.140000\n",
      "Right Riemann      : 42.540000\n",
      "Midpoints Riemann  : 41.330000\n",
      "Trapezoid Model    : 41.340000\n"
     ]
    }
   ],
   "source": [
    "# Answer Here\n",
    "def Riemann (f, a, b, n):\n",
    "    # N = Titik Partisi\n",
    "    h = (b - a) / (n - 1)\n",
    "    x = np.linspace(a, b, n)\n",
    "\n",
    "    # N = Jumlah Partisi\n",
    "    h = (b - a) / (n)\n",
    "    x = np.linspace(a, b, n + 1)\n",
    "\n",
    "    leftRiemann = h * np.sum(f(x[:-1]))\n",
    "    rightRiemann = h * np.sum(f(x[1:]))\n",
    "    midRiemann = h * np.sum(f( (x[1:] + x[:-1]) / 2 ))\n",
    "    trapezoid = (h / 2) * (f(a) + 2 * np.sum(f(x[1:-1])) + f(b))\n",
    "\n",
    "    print(f\"Left Riemann       : {leftRiemann:.6f}\")\n",
    "    print(f\"Right Riemann      : {rightRiemann:.6f}\")\n",
    "    print(f\"Midpoints Riemann  : {midRiemann:.6f}\")\n",
    "    print(f\"Trapezoid Model    : {trapezoid:.6f}\")\n",
    "\n",
    "Riemann(f, a, b, n)\n"
   ]
  }
 ],
 "metadata": {
  "kernelspec": {
   "display_name": "Python 3",
   "language": "python",
   "name": "python3"
  },
  "language_info": {
   "codemirror_mode": {
    "name": "ipython",
    "version": 3
   },
   "file_extension": ".py",
   "mimetype": "text/x-python",
   "name": "python",
   "nbconvert_exporter": "python",
   "pygments_lexer": "ipython3",
   "version": "3.12.4"
  }
 },
 "nbformat": 4,
 "nbformat_minor": 5
}
